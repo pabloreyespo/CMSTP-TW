{
 "cells": [
  {
   "cell_type": "code",
   "execution_count": 403,
   "metadata": {},
   "outputs": [],
   "source": [
    "import numpy as np\n",
    "from numpy import inf\n",
    "from random import choices\n",
    "\n",
    "from utilities import read_instance,  visualize, instance"
   ]
  },
  {
   "cell_type": "code",
   "execution_count": 405,
   "metadata": {},
   "outputs": [],
   "source": [
    "n = 10\n",
    "name, capacity, node_data = read_instance(\"../gehring instances/1000/C1_10_1.TXT\")\n",
    "ins = instance(name, capacity, node_data, n)\n",
    "ins.capacity = 20"
   ]
  },
  {
   "cell_type": "code",
   "execution_count": 406,
   "metadata": {},
   "outputs": [],
   "source": [
    "D = ins.cost\n",
    "D[D == 0] = inf\n",
    "p = 1/D"
   ]
  },
  {
   "cell_type": "code",
   "execution_count": 407,
   "metadata": {},
   "outputs": [],
   "source": [
    "# Q = 3\n",
    "# nodes[(load[gate[nodes]] <= Q -1) & (pred[nodes] > -1)]"
   ]
  },
  {
   "attachments": {},
   "cell_type": "markdown",
   "metadata": {},
   "source": [
    "# Procedimiento 1"
   ]
  },
  {
   "cell_type": "code",
   "execution_count": 408,
   "metadata": {},
   "outputs": [],
   "source": [
    "def explorar1(ins):\n",
    "    nodes = np.array(range(n + 1), dtype = int)\n",
    "    pred = np.ones(n+1, dtype = int) * -1\n",
    "    gate = np.zeros(n+1, dtype = int)\n",
    "    load = np.zeros(n+1, dtype = int)\n",
    "    arrival = np.zeros(n+1)\n",
    "\n",
    "    itree = [0]\n",
    "    nodes_left = set(nodes) - set([0])\n",
    "    nodes_left\n",
    "\n",
    "    Q = 3\n",
    "    earliest = np.array(ins.earliest)\n",
    "    latest = np.array(ins.latest)\n",
    "    \n",
    "    cost = 0\n",
    "    while len(nodes_left) > 0:\n",
    "        candidates = []\n",
    "        for k in itree:\n",
    "            nleft = list(nodes_left)\n",
    "            prob = p[k, nleft]\n",
    "            j  = choices(nleft, weights =  prob, k = 1)[0]\n",
    "            candidates.append((k,j))\n",
    "\n",
    "        m = len(itree)\n",
    "        new_prob = np.zeros(m)\n",
    "        for i, (k,j) in enumerate(candidates):\n",
    "            new_prob[i] = p[k,j]\n",
    "\n",
    "        i  = choices(range(m), weights =  new_prob, k = 1)[0]\n",
    "        kk,jj = candidates[i]\n",
    "\n",
    "        itree.append(jj)\n",
    "        nodes_left.remove(jj)\n",
    "\n",
    "        pred[jj] = kk\n",
    "\n",
    "        cost += D[kk,jj]\n",
    "        if gate[kk] == 0:\n",
    "            gate[jj] = jj\n",
    "        else:\n",
    "            gate[jj] = gate[kk]\n",
    "\n",
    "        load[gate[jj]] += 1\n",
    "        arrival[jj] = arrival[kk] + D[kk,jj]\n",
    "    \n",
    "        if not arrival[jj] >= earliest[jj]:\n",
    "            arrival[jj] = earliest[jj]"
   ]
  },
  {
   "attachments": {},
   "cell_type": "markdown",
   "metadata": {},
   "source": [
    "# Procedimiento 2"
   ]
  },
  {
   "cell_type": "code",
   "execution_count": 409,
   "metadata": {},
   "outputs": [],
   "source": [
    "def explorar2(ins):\n",
    "    nodes = np.array(range(n + 1), dtype = int)\n",
    "    pred = np.ones(n+1, dtype = int) * -1\n",
    "    gate = np.zeros(n+1, dtype = int)\n",
    "    load = np.zeros(n+1, dtype = int)\n",
    "    arrival = np.zeros(n+1)\n",
    "\n",
    "    itree = [0]\n",
    "    nodes_left = set(nodes) - set([0])\n",
    "    nodes_left\n",
    "\n",
    "    Q = 3\n",
    "    earliest = np.array(ins.earliest)\n",
    "    latest = np.array(ins.latest)\n",
    "    \n",
    "    cost = 0\n",
    "    while len(nodes_left) > 0:\n",
    "        nleft = list(nodes_left)\n",
    "        prob = p[itree,:][:, nleft].sum(axis = 1)\n",
    "\n",
    "        kk  = choices(itree, weights = prob, k  =1)[0]\n",
    "\n",
    "        prob = p[kk, nleft]\n",
    "        jj = choices(nleft, weights =  prob, k = 1)[0]\n",
    "\n",
    "    # ver si tiene sentido meter esto en una función de actualización para acortar el código\n",
    "        itree.append(jj)\n",
    "        nodes_left.remove(jj)\n",
    "\n",
    "        pred[jj] = kk\n",
    "\n",
    "        cost += D[kk,jj]\n",
    "        if gate[kk] == 0:\n",
    "            gate[jj] = jj\n",
    "        else:\n",
    "            gate[jj] = gate[kk]\n",
    "\n",
    "        load[gate[jj]] += 1\n",
    "        arrival[jj] = arrival[kk] + D[kk,jj]\n",
    "    \n",
    "        if not arrival[jj] >= earliest[jj]:\n",
    "            arrival[jj] = earliest[jj]\n",
    "\n",
    "# print(j,k)"
   ]
  },
  {
   "attachments": {},
   "cell_type": "markdown",
   "metadata": {},
   "source": [
    "# Procedimiento 3"
   ]
  },
  {
   "cell_type": "code",
   "execution_count": 410,
   "metadata": {},
   "outputs": [],
   "source": [
    "def explorar3(ins):\n",
    "    start = perf_counter()\n",
    "    Q = ins.capacity\n",
    "    n = ins.n\n",
    "    nodes = np.array(range(n), dtype = int)\n",
    "    pred = np.ones(n, dtype = int) * -1\n",
    "    gate = np.zeros(n, dtype = int)\n",
    "    load = np.zeros(n, dtype = int)\n",
    "    arrival = np.zeros(n)\n",
    "\n",
    "    next = np.ones((n,n))\n",
    "\n",
    "    itree = [0]\n",
    "    nodes_left = set(nodes) - set([0])\n",
    "    nodes_left\n",
    "\n",
    "    earliest = np.array(ins.earliest)\n",
    "    latest = np.array(ins.latest)\n",
    "\n",
    "    cost = 0\n",
    "    while len(nodes_left) > 0:\n",
    "        p[(load[gate][:,None] + next > Q) | (arrival[:,None] + D > latest)] = 0 # establecer filtro\n",
    "        nleft = list(nodes_left)\n",
    "        prob = p[itree,:][:, nleft]\n",
    "        filas = len(itree)\n",
    "        columnas = len(nodes_left)\n",
    "        m = filas * columnas\n",
    "        i = choices(range(m), weights = prob.reshape(m), k = 1)[0]\n",
    "        k,j = i%filas, i//filas\n",
    "\n",
    "        kk = itree[k]\n",
    "        jj = nleft[j]\n",
    "\n",
    "    # ver si tiene sentido meter esto en una función de actualización para acortar el código\n",
    "        itree.append(jj)\n",
    "        nodes_left.remove(jj)\n",
    "\n",
    "        pred[jj] = kk\n",
    "\n",
    "        cost += D[kk,jj]\n",
    "        if gate[kk] == 0:\n",
    "            gate[jj] = jj\n",
    "        else:\n",
    "            gate[jj] = gate[kk]\n",
    "\n",
    "        load[gate[jj]] += 1\n",
    "        arrival[jj] = arrival[kk] + D[kk,jj]\n",
    "    \n",
    "        if not arrival[jj] >= earliest[jj]:\n",
    "            arrival[jj] = earliest[jj]\n",
    "\n",
    "    time = perf_counter() - start\n",
    "    return cost, time, None, None"
   ]
  },
  {
   "attachments": {},
   "cell_type": "markdown",
   "metadata": {},
   "source": [
    "# Procedimiento 4"
   ]
  },
  {
   "cell_type": "code",
   "execution_count": 411,
   "metadata": {},
   "outputs": [],
   "source": [
    "def explorar4(ins):\n",
    "    start = perf_counter()\n",
    "    Q = ins.capacity\n",
    "    n = ins.n\n",
    "    nodes = np.array(range(n), dtype = int)\n",
    "    pred = np.ones(n, dtype = int) * -1\n",
    "    gate = np.zeros(n, dtype = int)\n",
    "    load = np.zeros(n, dtype = int)\n",
    "    arrival = np.zeros(n)\n",
    "\n",
    "    next = np.ones((n,n))\n",
    "\n",
    "    itree = [0]\n",
    "    nodes_left = set(nodes) - set([0])\n",
    "    nodes_left\n",
    "\n",
    "    earliest = np.array(ins.earliest)\n",
    "    latest = np.array(ins.latest)\n",
    "\n",
    "    cost = 0\n",
    "    while len(nodes_left) > 0:\n",
    "        p[(load[gate][:,None] + next > Q) | (arrival[:,None] + D > latest)] = 0 # establecer filtro\n",
    "        nleft = list(nodes_left)\n",
    "        prob = p[itree,:][:, nleft].sum(axis = 1)\n",
    "        kk  = np.random.choice(itree, p = prob/prob.sum(), size  =1)[0]\n",
    "\n",
    "        prob = p[kk, nleft]\n",
    "        jj = np.random.choice(nleft, p = prob/prob.sum(), size  =1)[0]\n",
    "\n",
    "    # ver si tiene sentido meter esto en una función de actualización para acortar el código\n",
    "        itree.append(jj)\n",
    "        nodes_left.remove(jj)\n",
    "\n",
    "        pred[jj] = kk\n",
    "\n",
    "        cost += D[kk,jj]\n",
    "        if gate[kk] == 0:\n",
    "            gate[jj] = jj\n",
    "        else:\n",
    "            gate[jj] = gate[kk]\n",
    "            \n",
    "        load[gate[jj]] += 1\n",
    "        arrival[jj] = arrival[kk] + D[kk,jj]\n",
    "\n",
    "        if not arrival[jj] >= earliest[jj]:\n",
    "            arrival[jj] = earliest[jj]\n",
    "    time = perf_counter() - start\n",
    "    return cost, time, None, None\n"
   ]
  },
  {
   "cell_type": "code",
   "execution_count": 428,
   "metadata": {},
   "outputs": [
    {
     "data": {
      "text/plain": [
       "(1767.0485346133057, 0.0032478999983140966, None, None)"
      ]
     },
     "execution_count": 428,
     "metadata": {},
     "output_type": "execute_result"
    }
   ],
   "source": [
    "explorar4(ins)"
   ]
  },
  {
   "cell_type": "code",
   "execution_count": 424,
   "metadata": {},
   "outputs": [
    {
     "data": {
      "text/plain": [
       "(2971.9583754260134, 0.0021014999983890448, None, None)"
      ]
     },
     "execution_count": 424,
     "metadata": {},
     "output_type": "execute_result"
    }
   ],
   "source": [
    "explorar3(ins)"
   ]
  },
  {
   "cell_type": "code",
   "execution_count": null,
   "metadata": {},
   "outputs": [],
   "source": []
  }
 ],
 "metadata": {
  "kernelspec": {
   "display_name": "base",
   "language": "python",
   "name": "python3"
  },
  "language_info": {
   "codemirror_mode": {
    "name": "ipython",
    "version": 3
   },
   "file_extension": ".py",
   "mimetype": "text/x-python",
   "name": "python",
   "nbconvert_exporter": "python",
   "pygments_lexer": "ipython3",
   "version": "3.9.13 (main, Aug 25 2022, 23:51:50) [MSC v.1916 64 bit (AMD64)]"
  },
  "orig_nbformat": 4,
  "vscode": {
   "interpreter": {
    "hash": "843fd92092d224b47c16a68bd4bca3fc6a9bbbdfa33fd8038d7a6787e0fa4720"
   }
  }
 },
 "nbformat": 4,
 "nbformat_minor": 2
}
