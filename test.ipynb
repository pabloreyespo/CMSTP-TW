{
 "cells": [
  {
   "cell_type": "code",
   "execution_count": null,
   "metadata": {},
   "outputs": [],
   "source": [
    "from time import sleep, perf_counter\n",
    "\n",
    "inicio = perf_counter()\n",
    "sleep(3)\n",
    "print(perf_counter() - inicio)"
   ]
  }
 ],
 "metadata": {
  "kernelspec": {
   "display_name": "Python 3.8.13 ('opt_env')",
   "language": "python",
   "name": "python3"
  },
  "language_info": {
   "name": "python",
   "version": "3.8.13"
  },
  "orig_nbformat": 4,
  "vscode": {
   "interpreter": {
    "hash": "660433b0d383e9336e584e51b455f3e799e0f3b84bd6ef51921b023c2b577976"
   }
  }
 },
 "nbformat": 4,
 "nbformat_minor": 2
}
