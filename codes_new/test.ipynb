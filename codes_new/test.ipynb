{
 "cells": [
  {
   "cell_type": "code",
   "execution_count": 1,
   "metadata": {},
   "outputs": [],
   "source": [
    "import numpy as np\n",
    "from math import inf\n",
    "from utilities import *\n",
    "from time import perf_counter\n",
    "from sortedcollections import SortedDict"
   ]
  },
  {
   "cell_type": "code",
   "execution_count": 2,
   "metadata": {},
   "outputs": [],
   "source": [
    "def distance(i,j):\n",
    "    return D[i,j]\n",
    "    \n",
    "def prim_solution(ins, vis  = False):\n",
    "\n",
    "    nodes = ins.nodes # ignore demand\n",
    "    start = perf_counter()\n",
    "    n = len(nodes)\n",
    "\n",
    "    pred = SortedDict()\n",
    "    arrival_time = SortedDict()\n",
    "    for i in range(n):\n",
    "        pred[i] = -1\n",
    "        arrival_time[i] = 0\n",
    "\n",
    "    itree = set() # muestra que es lo ultimo que se ha añadido\n",
    "\n",
    "    d = inf\n",
    "    for j in nodes[1:]:\n",
    "        if distance(0,j) < d:\n",
    "            d = distance(0,j)\n",
    "            v = j\n",
    "\n",
    "    itree.add(0) #orden en que son nombrados\n",
    "    itree.add(v)\n",
    "\n",
    "    pred[v] = 0\n",
    "    arrival_time[v] = cost = d\n",
    "\n",
    "    numnod = 2\n",
    "\n",
    "    while numnod < n: # mientras no estén todos los nodos\n",
    "        min_tree = inf\n",
    "        for j in range(n): # par cada nodo candidato\n",
    "            min_node = inf\n",
    "            # Dado un nodo j que no está en el árbol, busco el mejor predecesor\n",
    "            if j not in itree:\n",
    "                for ki in itree: # k: parent, j: offspring\n",
    "                    # calcula si alcanza a llegar desde alguno de los nodos que ya estan colocados\n",
    "                    dkj = distance(ki,j)\n",
    "                    crit_node = dkj\n",
    "                    if crit_node < min_node:\n",
    "                        min_node = crit_node\n",
    "                        k = ki\n",
    "\n",
    "                crit_tree = min_node\n",
    "                if crit_tree < min_tree:\n",
    "                    kk = k\n",
    "                    jj = j\n",
    "                    min_tree = crit_tree\n",
    "\n",
    "        numnod += 1\n",
    "        itree.add(jj)\n",
    "        pred[jj] = kk\n",
    "        # visualize(ins.xcoords, ins.ycoords, pred)\n",
    "        cost += distance(kk,jj)\n",
    "        arrival_time[jj] = arrival_time[kk] + distance(kk,jj)\n",
    "\n",
    "    time = perf_counter() - start\n",
    "\n",
    "    if vis:\n",
    "        visualize(ins.xcoords, ins.ycoords, pred)\n",
    "    best_bound = None\n",
    "    gap = None\n",
    "    return cost, time, best_bound, gap\n"
   ]
  },
  {
   "cell_type": "code",
   "execution_count": 3,
   "metadata": {},
   "outputs": [],
   "source": [
    "name, capacity, node_data = read_instance(f\"../Instances/c101.txt\")\n",
    "ins = instance(name, capacity, node_data, 100)\n",
    "global D\n",
    "D = ins.cost\n",
    "ins.capacity = 20\n",
    "nodes = ins.nodes\n",
    "obj, time, best_bound, gap = prim_solution(ins, vis = False)"
   ]
  },
  {
   "cell_type": "code",
   "execution_count": 5,
   "metadata": {},
   "outputs": [
    {
     "name": "stdout",
     "output_type": "stream",
     "text": [
      "19 39.05124837953327\n"
     ]
    }
   ],
   "source": [
    "# %%timeit\n",
    "v = np.argmin(D[0,1:z])\n",
    "d = D[0,v]\n",
    "print(v,d)"
   ]
  },
  {
   "cell_type": "code",
   "execution_count": null,
   "metadata": {},
   "outputs": [
    {
     "data": {
      "text/plain": [
       "array([        inf, 18.68154169, 20.61552813, 16.1245155 , 18.11077028,\n",
       "       15.13274595, 19.        , 16.        , 18.11077028, 20.09975124,\n",
       "       16.76305461, 19.6468827 , 38.07886553, 30.8058436 , 39.35733731,\n",
       "       36.05551275, 40.31128874, 33.30165161, 35.35533906, 39.05124838,\n",
       "       10.        , 10.19803903, 12.16552506, 13.        , 15.        ,\n",
       "       15.13274595, 15.8113883 , 17.11724277, 17.72004515, 20.        ,\n",
       "       20.61552813, 33.54101966, 31.6227766 , 33.52610923, 32.38826948,\n",
       "       38.07886553, 35.35533906, 39.29376541, 41.23105626, 40.31128874,\n",
       "       20.61552813, 18.68154169, 19.31320792, 16.55294536, 21.54065923,\n",
       "       22.36067977, 20.59126028, 18.02775638, 23.32380758, 19.20937271,\n",
       "       22.8035085 , 25.        , 21.21320344, 45.17742799, 40.04996879,\n",
       "       35.05709629, 45.        , 35.        , 45.04442252, 35.05709629,\n",
       "       45.27692569, 22.36067977, 18.02775638, 14.14213562, 21.54065923,\n",
       "       12.80624847, 16.55294536, 12.20655562, 20.61552813, 15.8113883 ,\n",
       "       58.52349955, 57.00877125, 23.85372088, 55.71355311, 19.84943324,\n",
       "       15.8113883 , 52.20153254, 52.        , 50.28916384, 51.07837116,\n",
       "       51.4781507 , 47.4341649 , 35.35533906, 32.38826948, 31.04834939,\n",
       "       29.73213749, 26.47640459, 25.49509757, 26.92582404, 24.35159132,\n",
       "       20.61552813, 22.36067977, 44.20407221, 43.01162634, 40.60788101,\n",
       "       37.20215048, 36.05551275, 40.31128874, 30.8058436 , 33.54101966,\n",
       "       38.07886553])"
      ]
     },
     "execution_count": 22,
     "metadata": {},
     "output_type": "execute_result"
    }
   ],
   "source": [
    "D[0,:]"
   ]
  },
  {
   "cell_type": "code",
   "execution_count": 11,
   "metadata": {},
   "outputs": [
    {
     "name": "stdout",
     "output_type": "stream",
     "text": [
      "52.2 µs ± 2.35 µs per loop (mean ± std. dev. of 7 runs, 10,000 loops each)\n"
     ]
    }
   ],
   "source": [
    "%%timeit\n",
    "d = inf\n",
    "for j in nodes[1:]:\n",
    "    if distance(0,j) < d:\n",
    "        d = distance(0,j)\n",
    "        v = j"
   ]
  },
  {
   "cell_type": "code",
   "execution_count": null,
   "metadata": {},
   "outputs": [],
   "source": [
    "def distance(i,j):\n",
    "    return D[i,j]\n",
    "    \n",
    "def prim_solution(ins, vis  = False):\n",
    "\n",
    "    nodes = ins.nodes # ignore demand\n",
    "    start = perf_counter()\n",
    "    n = len(nodes)\n",
    "\n",
    "    pred = np.ones(n, dtype = int) * -1\n",
    "    arrival = np.zeros(n)\n",
    "    itree = set() # muestra que es lo ultimo que se ha añadido\n",
    "\n",
    "    d = inf\n",
    "    for j in nodes[1:]:\n",
    "        if distance(0,j) < d:\n",
    "            d = distance(0,j)\n",
    "            v = j\n",
    "\n",
    "    itree.add(0) #orden en que son nombrados\n",
    "    itree.add(v)\n",
    "\n",
    "    pred[v] = 0\n",
    "    arrival[v] = cost = d\n",
    "\n",
    "    numnod = 2\n",
    "\n",
    "    while numnod < n: # mientras no estén todos los nodos\n",
    "        min_tree = inf\n",
    "        for j in range(n): # par cada nodo candidato\n",
    "            min_node = inf\n",
    "            # Dado un nodo j que no está en el árbol, busco el mejor predecesor\n",
    "            if j not in itree:\n",
    "                for ki in itree: # k: parent, j: offspring\n",
    "                    # calcula si alcanza a llegar desde alguno de los nodos que ya estan colocados\n",
    "                    dkj = distance(ki,j)\n",
    "                    crit_node = dkj\n",
    "                    if crit_node < min_node:\n",
    "                        min_node = crit_node\n",
    "                        k = ki\n",
    "\n",
    "                crit_tree = min_node\n",
    "                if crit_tree < min_tree:\n",
    "                    kk = k\n",
    "                    jj = j\n",
    "                    min_tree = crit_tree\n",
    "\n",
    "        numnod += 1\n",
    "        itree.add(jj)\n",
    "        pred[jj] = kk\n",
    "        # visualize(ins.xcoords, ins.ycoords, pred)\n",
    "        cost += distance(kk,jj)\n",
    "        arrival[jj] = arrival[kk] + distance(kk,jj)\n",
    "\n",
    "    time = perf_counter() - start\n",
    "\n",
    "    if vis:\n",
    "        visualize(ins.xcoords, ins.ycoords, pred)\n",
    "        \n",
    "    best_bound = None\n",
    "    gap = None\n",
    "    return cost, time, best_bound, gap"
   ]
  },
  {
   "cell_type": "code",
   "execution_count": null,
   "metadata": {},
   "outputs": [
    {
     "name": "stdout",
     "output_type": "stream",
     "text": [
      "82.1 ms ± 507 µs per loop (mean ± std. dev. of 100 runs, 10 loops each)\n"
     ]
    }
   ],
   "source": [
    "%%timeit -r 1000\n",
    "name, capacity, node_data = read_instance(f\"../Instances/c101.txt\")\n",
    "ins = instance(name, capacity, node_data, 100)\n",
    "global D\n",
    "D = ins.cost\n",
    "ins.capacity = 20\n",
    "obj, time, best_bound, gap = prim_solution(ins, vis = False)"
   ]
  },
  {
   "cell_type": "code",
   "execution_count": 2,
   "metadata": {},
   "outputs": [
    {
     "data": {
      "text/plain": [
       "[1, 0, 2]"
      ]
     },
     "execution_count": 2,
     "metadata": {},
     "output_type": "execute_result"
    }
   ],
   "source": [
    "import random\n",
    "\n",
    "sorted(range(3), key = lambda x: random.random())"
   ]
  },
  {
   "cell_type": "code",
   "execution_count": null,
   "metadata": {},
   "outputs": [],
   "source": []
  }
 ],
 "metadata": {
  "kernelspec": {
   "display_name": "opt_env",
   "language": "python",
   "name": "python3"
  },
  "language_info": {
   "codemirror_mode": {
    "name": "ipython",
    "version": 3
   },
   "file_extension": ".py",
   "mimetype": "text/x-python",
   "name": "python",
   "nbconvert_exporter": "python",
   "pygments_lexer": "ipython3",
   "version": "3.8.15 | packaged by conda-forge | (default, Nov 22 2022, 08:42:03) [MSC v.1929 64 bit (AMD64)]"
  },
  "orig_nbformat": 4,
  "vscode": {
   "interpreter": {
    "hash": "660433b0d383e9336e584e51b455f3e799e0f3b84bd6ef51921b023c2b577976"
   }
  }
 },
 "nbformat": 4,
 "nbformat_minor": 2
}
