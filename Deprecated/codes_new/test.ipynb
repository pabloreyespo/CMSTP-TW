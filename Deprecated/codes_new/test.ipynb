{
 "cells": [
  {
   "cell_type": "code",
   "execution_count": 106,
   "metadata": {},
   "outputs": [],
   "source": [
    "import numpy as np\n",
    "from math import inf\n",
    "from utilities import *\n",
    "from time import perf_counter\n",
    "from sortedcollections import SortedDict\n",
    "from disjoint_set import DisjointSet\n",
    "from matheuristic import *\n",
    "from copy import deepcopy"
   ]
  },
  {
   "cell_type": "code",
   "execution_count": 107,
   "metadata": {},
   "outputs": [],
   "source": [
    "\n",
    "name, capacity, node_data = read_instance(\"../instances/c207.txt\")\n",
    "ins = instance(name, capacity, node_data, 100)\n",
    "global xcoords, ycoords, latest, earliest, D, Q\n",
    "xcoords, ycoords = ins.xcoords, ins.ycoords\n",
    "earliest, latest = ins.earliest, ins.latest\n",
    "D = ins.cost\n",
    "Q = ins.capacity\n",
    "s, cost = prim(ins, vis = False, initial = True)"
   ]
  },
  {
   "cell_type": "code",
   "execution_count": 108,
   "metadata": {},
   "outputs": [],
   "source": [
    "def copy(s):\n",
    "    return (s[0].copy(), s[1].copy(), s[2].copy(), s[3].copy())"
   ]
  },
  {
   "cell_type": "code",
   "execution_count": 109,
   "metadata": {},
   "outputs": [],
   "source": [
    "def random_father(s): \n",
    "    parent = s[0] \n",
    "    gate = s[1] \n",
    "    load = s[2] \n",
    "    arrival = s[3] \n",
    "\n",
    "    n = len(parent) \n",
    "    j = np.random.randint(1,n) \n",
    "    # print(j, parent[j])\n",
    "    parent[j] = -1 \n",
    "\n",
    "    ds = get_disjoint(parent)\n",
    "\n",
    "    sets = list(ds.itersets())\n",
    "    con, disc = sets[0], sets[1]\n",
    "\n",
    "    l = len(disc)\n",
    "    load[gate[j]] -= l \n",
    "\n",
    "    for i in sorted(con, key = lambda x: random()):\n",
    "        if load[gate[i]] + l <= Q: \n",
    "            \n",
    "            parent[j] = i\n",
    "            subroot = gate[i] if i != 0 else j\n",
    "            for jj in sorted(disc, key = lambda x: arrival[x]):\n",
    "                gate[jj] = subroot\n",
    "                arrival[jj] = max(arrival[parent[jj]] + distance(jj, parent[jj]), earliest[jj]) # hacer esto por orde de llegada, asi se me hace mas facil\n",
    "            load[gate[j]] += l\n",
    "            return (parent, gate, load, arrival)"
   ]
  },
  {
   "cell_type": "code",
   "execution_count": null,
   "metadata": {},
   "outputs": [],
   "source": []
  },
  {
   "cell_type": "code",
   "execution_count": 110,
   "metadata": {},
   "outputs": [
    {
     "ename": "NameError",
     "evalue": "name 'Q' is not defined",
     "output_type": "error",
     "traceback": [
      "\u001b[1;31m---------------------------------------------------------------------------\u001b[0m",
      "\u001b[1;31mNameError\u001b[0m                                 Traceback (most recent call last)",
      "\u001b[1;32mc:\\Users\\rablo\\Documents\\GitHub\\CMSTP-TW\\codes_new\\test.ipynb Cell 6\u001b[0m in \u001b[0;36m<cell line: 1>\u001b[1;34m()\u001b[0m\n\u001b[1;32m----> <a href='vscode-notebook-cell:/c%3A/Users/rablo/Documents/GitHub/CMSTP-TW/codes_new/test.ipynb#X15sZmlsZQ%3D%3D?line=0'>1</a>\u001b[0m get_ipython()\u001b[39m.\u001b[39;49mrun_cell_magic(\u001b[39m'\u001b[39;49m\u001b[39mtimeit\u001b[39;49m\u001b[39m'\u001b[39;49m, \u001b[39m'\u001b[39;49m\u001b[39m'\u001b[39;49m, \u001b[39m'\u001b[39;49m\u001b[39mx = branch_to_branch(copy(s))\u001b[39;49m\u001b[39m\\n\u001b[39;49;00m\u001b[39m'\u001b[39;49m)\n",
      "File \u001b[1;32mc:\\Users\\rablo\\anaconda3\\envs\\opt_env\\lib\\site-packages\\IPython\\core\\interactiveshell.py:2358\u001b[0m, in \u001b[0;36mInteractiveShell.run_cell_magic\u001b[1;34m(self, magic_name, line, cell)\u001b[0m\n\u001b[0;32m   2356\u001b[0m \u001b[39mwith\u001b[39;00m \u001b[39mself\u001b[39m\u001b[39m.\u001b[39mbuiltin_trap:\n\u001b[0;32m   2357\u001b[0m     args \u001b[39m=\u001b[39m (magic_arg_s, cell)\n\u001b[1;32m-> 2358\u001b[0m     result \u001b[39m=\u001b[39m fn(\u001b[39m*\u001b[39;49margs, \u001b[39m*\u001b[39;49m\u001b[39m*\u001b[39;49mkwargs)\n\u001b[0;32m   2359\u001b[0m \u001b[39mreturn\u001b[39;00m result\n",
      "File \u001b[1;32mc:\\Users\\rablo\\anaconda3\\envs\\opt_env\\lib\\site-packages\\IPython\\core\\magics\\execution.py:1162\u001b[0m, in \u001b[0;36mExecutionMagics.timeit\u001b[1;34m(self, line, cell, local_ns)\u001b[0m\n\u001b[0;32m   1160\u001b[0m \u001b[39mfor\u001b[39;00m index \u001b[39min\u001b[39;00m \u001b[39mrange\u001b[39m(\u001b[39m0\u001b[39m, \u001b[39m10\u001b[39m):\n\u001b[0;32m   1161\u001b[0m     number \u001b[39m=\u001b[39m \u001b[39m10\u001b[39m \u001b[39m*\u001b[39m\u001b[39m*\u001b[39m index\n\u001b[1;32m-> 1162\u001b[0m     time_number \u001b[39m=\u001b[39m timer\u001b[39m.\u001b[39;49mtimeit(number)\n\u001b[0;32m   1163\u001b[0m     \u001b[39mif\u001b[39;00m time_number \u001b[39m>\u001b[39m\u001b[39m=\u001b[39m \u001b[39m0.2\u001b[39m:\n\u001b[0;32m   1164\u001b[0m         \u001b[39mbreak\u001b[39;00m\n",
      "File \u001b[1;32mc:\\Users\\rablo\\anaconda3\\envs\\opt_env\\lib\\site-packages\\IPython\\core\\magics\\execution.py:156\u001b[0m, in \u001b[0;36mTimer.timeit\u001b[1;34m(self, number)\u001b[0m\n\u001b[0;32m    154\u001b[0m gc\u001b[39m.\u001b[39mdisable()\n\u001b[0;32m    155\u001b[0m \u001b[39mtry\u001b[39;00m:\n\u001b[1;32m--> 156\u001b[0m     timing \u001b[39m=\u001b[39m \u001b[39mself\u001b[39;49m\u001b[39m.\u001b[39;49minner(it, \u001b[39mself\u001b[39;49m\u001b[39m.\u001b[39;49mtimer)\n\u001b[0;32m    157\u001b[0m \u001b[39mfinally\u001b[39;00m:\n\u001b[0;32m    158\u001b[0m     \u001b[39mif\u001b[39;00m gcold:\n",
      "File \u001b[1;32m<magic-timeit>:1\u001b[0m, in \u001b[0;36minner\u001b[1;34m(_it, _timer)\u001b[0m\n",
      "File \u001b[1;32mc:\\Users\\rablo\\Documents\\GitHub\\CMSTP-TW\\codes_new\\matheuristic.py:649\u001b[0m, in \u001b[0;36mbranch_to_branch\u001b[1;34m(s)\u001b[0m\n\u001b[0;32m    647\u001b[0m \u001b[39mfor\u001b[39;00m i \u001b[39min\u001b[39;00m \u001b[39msorted\u001b[39m(\u001b[39mrange\u001b[39m(n), key \u001b[39m=\u001b[39m \u001b[39mlambda\u001b[39;00m x: random()):\n\u001b[0;32m    648\u001b[0m     \u001b[39mif\u001b[39;00m i \u001b[39mnot\u001b[39;00m \u001b[39min\u001b[39;00m nodes:\n\u001b[1;32m--> 649\u001b[0m         \u001b[39mif\u001b[39;00m load[gate[i]] \u001b[39m+\u001b[39m lo \u001b[39m<\u001b[39m\u001b[39m=\u001b[39m Q:\n\u001b[0;32m    651\u001b[0m             parent[j] \u001b[39m=\u001b[39m i\n\u001b[0;32m    652\u001b[0m             arrival[j] \u001b[39m=\u001b[39m \u001b[39mmax\u001b[39m(arrival[i] \u001b[39m+\u001b[39m distance(i,j), earliest[j])\n",
      "\u001b[1;31mNameError\u001b[0m: name 'Q' is not defined"
     ]
    }
   ],
   "source": [
    "%%timeit\n",
    "x = branch_to_branch(copy(s))"
   ]
  },
  {
   "cell_type": "code",
   "execution_count": 71,
   "metadata": {},
   "outputs": [
    {
     "name": "stdout",
     "output_type": "stream",
     "text": [
      "566 µs ± 4.27 µs per loop (mean ± std. dev. of 7 runs, 1,000 loops each)\n"
     ]
    }
   ],
   "source": [
    "%%timeit\n",
    "x = random_father(copy(s))"
   ]
  },
  {
   "cell_type": "code",
   "execution_count": 211,
   "metadata": {},
   "outputs": [],
   "source": [
    "class branch_bound:\n",
    "    def __init__(self, s):\n",
    "        self.nodes = s\n",
    "        self.best_solution = None\n",
    "        self.best_cost = inf\n",
    "\n",
    "        parent = SortedDict()\n",
    "        arrival = SortedDict()\n",
    "        gate = SortedDict()\n",
    "        load = SortedDict()\n",
    "\n",
    "        parent[0] = -1\n",
    "        arrival[0] = gate[0] = load[0] = 0\n",
    "        for i in self.nodes:\n",
    "            arrival[i] = gate[i] = load[i] = 0\n",
    "\n",
    "        nodes_left = set(self.nodes)\n",
    "        \n",
    "        s = (parent, gate, load, arrival)\n",
    "        self.explore(s, 0, nodes_left)\n",
    "\n",
    "    def explore(self, s, cost, nodes_left):\n",
    "        if len(nodes_left) == 0:\n",
    "            if cost < self.best_cost:\n",
    "                self.best_cost = cost\n",
    "                self.best_solution = deepcopy(s)\n",
    "\n",
    "        else:\n",
    "            for j in nodes_left:\n",
    "                for i in s[0].keys():\n",
    "                    if cost + distance(i, j) < self.best_cost:\n",
    "                        parent, gate, load, arrival = deepcopy(s)\n",
    "                        parent[j] = i\n",
    "                        if i == 0:\n",
    "                            gate[j] = j\n",
    "                        else:\n",
    "                            gate[j] = gate[i]\n",
    "    \n",
    "                        if arrival[i] + distance(i,j) <= latest[j] and load[gate[j]] < Q: # isFeasible() # reescribir\n",
    "                            \n",
    "                            load[gate[j]] += 1\n",
    "                            arrival[j] = arrival[i] + distance(i,j)\n",
    "                            if arrival[j] < earliest[j]:\n",
    "                                arrival[j] = earliest[j]\n",
    "                            \n",
    "                            self.explore((parent, gate, load, arrival), cost + distance(i, j), nodes_left - {j})\n",
    "                            load[gate[j]] -= 1"
   ]
  },
  {
   "cell_type": "code",
   "execution_count": 212,
   "metadata": {},
   "outputs": [
    {
     "name": "stdout",
     "output_type": "stream",
     "text": [
      "15.4 ms ± 366 µs per loop (mean ± std. dev. of 7 runs, 100 loops each)\n"
     ]
    }
   ],
   "source": [
    "%%timeit\n",
    "sol = branch_bound([1,2,4,5])\n",
    "bb = sol.best_solution"
   ]
  },
  {
   "cell_type": "code",
   "execution_count": 213,
   "metadata": {},
   "outputs": [],
   "source": [
    "class branch_bound:\n",
    "    def __init__(self, branch):\n",
    "        self.nodes = [0] + branch\n",
    "        self.best_solution = None\n",
    "        self.best_cost = inf\n",
    "        self.t = {num:j for j,num in enumerate(self.nodes)}\n",
    "        self.decode = {j:num for j,num in enumerate(self.nodes)}\n",
    "        self.decode[-1] = -1\n",
    "        self.n = n = len(self.nodes)\n",
    "\n",
    "        parent = np.zeros(n, dtype = int)\n",
    "        gate = np.zeros(n, dtype = int)\n",
    "        load = np.zeros(n, dtype = int)\n",
    "        arrival = np.zeros(n)\n",
    "        parent[0] = -1\n",
    "\n",
    "        nodes_left = set(self.nodes[1:])\n",
    "        itree = set()\n",
    "        itree.add(0)\n",
    "        \n",
    "        s = (parent, gate, load, arrival)\n",
    "        self.explore(s, 0, nodes_left, itree)\n",
    "\n",
    "    def explore(self, s, cost, nodes_left, itree):\n",
    "        if len(nodes_left) == 0:\n",
    "            if cost < self.best_cost:\n",
    "                self.best_cost = cost\n",
    "                self.best_solution = deepcopy(s)\n",
    "        else:\n",
    "            for j in nodes_left:\n",
    "                kj = self.t[j]\n",
    "                for i in itree:\n",
    "                    ki = self.t[i]\n",
    "                    \n",
    "                    if cost + distance(i, j) < self.best_cost:\n",
    "                        \n",
    "                        parent, gate, load, arrival = deepcopy(s)\n",
    "                        parent[kj] = ki\n",
    "                        if i == 0:\n",
    "                            gate[kj] = kj\n",
    "                        else:\n",
    "                            gate[kj] = gate[ki]\n",
    "    \n",
    "                        if arrival[ki] + distance(i,j) <= latest[j] and load[gate[kj]] < Q: # isFeasible() # reescribir\n",
    "                            \n",
    "                            load[gate[kj]] += 1\n",
    "                            arrival[kj] = arrival[ki] + distance(i,j)\n",
    "                            if arrival[kj] < earliest[j]:\n",
    "                                arrival[kj] = earliest[j]\n",
    "                            \n",
    "                            self.explore((parent, gate, load, arrival), cost + distance(i, j), nodes_left - {j}, itree | {j})\n",
    "                            load[gate[kj]] -= 1\n",
    "    def give_solution(self):\n",
    "        parent = SortedDict()\n",
    "        arrival = SortedDict()\n",
    "        gate = SortedDict()\n",
    "        load = SortedDict()\n",
    "        for ki in range(self.n):\n",
    "            i = self.decode[ki]\n",
    "            parent[i] = self.decode[self.best_solution[0][ki]]\n",
    "            gate[i] = self.decode[self.best_solution[1][ki]]\n",
    "            load[i] = self.best_solution[2][ki]\n",
    "            arrival[i] = self.best_solution[3][ki]\n",
    "        return(parent, gate, load, arrival)"
   ]
  },
  {
   "cell_type": "code",
   "execution_count": 214,
   "metadata": {},
   "outputs": [
    {
     "name": "stdout",
     "output_type": "stream",
     "text": [
      "2.23 ms ± 42.4 µs per loop (mean ± std. dev. of 7 runs, 100 loops each)\n"
     ]
    }
   ],
   "source": [
    "%%timeit\n",
    "sol = branch_bound([1,2,4,5])\n",
    "bb = sol.give_solution()"
   ]
  },
  {
   "cell_type": "code",
   "execution_count": 168,
   "metadata": {},
   "outputs": [
    {
     "name": "stdout",
     "output_type": "stream",
     "text": [
      "(array([-1,  1,  2,  3,  4]), array([0, 0, 0, 0, 0]), array([4, 0, 0, 0, 0]), array([   0.,  302.,  157., 1247.,   15.]))\n"
     ]
    }
   ],
   "source": [
    "print(sol.best_solution)"
   ]
  },
  {
   "cell_type": "code",
   "execution_count": null,
   "metadata": {},
   "outputs": [],
   "source": [
    "class tree:\n",
    "    def __init__(self, n):\n",
    "        self.parent = np.ones(n, dtype = int) * -1\n",
    "        self.gate = np.zeros(n, dtype = int)\n",
    "        self.load = np.zeros(n, dtype = int)\n",
    "        self.arrival = np.zeros(n)\n",
    "\n",
    "    def connect(self, k, j):\n",
    "        \"\"\"k: parent, j: children\"\"\"\n",
    "        self.gate[j] = gate = self.gate[k]\n",
    "        self.load[gate] += 1\n",
    "        self.parent[j] = k\n",
    "        self.arrival[j] = distance(k,j)\n",
    "        if not  self.arrival[j] >= earliest[j]:\n",
    "            self.arrival[j] = earliest[j]\n",
    "\n",
    "    def connect_to_root(self, j):\n",
    "        \"\"\"k: parent, j: children\"\"\"\n",
    "        self.gate[j] = j\n",
    "        self.load[self.gate[j]] += 1\n",
    "        self.parent[j] = 0\n",
    "        self.arrival[j] = distance(0,j)\n",
    "        if not  self.arrival[j] >= earliest[j]:\n",
    "            self.arrival[j] = earliest[j]\n",
    "\n",
    "    def fitness(self):\n",
    "        cost = 0 \n",
    "        feasible = True\n",
    "        for j,k in enumerate(self.parent):\n",
    "            if j != 0:\n",
    "                cost += distance(k,j)\n",
    "                arr = self.arrival[j]\n",
    "                lat = latest[j]\n",
    "                if  arr > lat:\n",
    "                    feasible = False\n",
    "                    cost += (arr - lat) * PENALIZATION\n",
    "\n",
    "        return cost, feasible"
   ]
  },
  {
   "cell_type": "code",
   "execution_count": null,
   "metadata": {},
   "outputs": [],
   "source": [
    "class branch_bound:\n",
    "    def __init__(self, branch):\n",
    "        self.nodes = [0] + branch\n",
    "        self.best_solution = None\n",
    "        self.best_cost = inf\n",
    "        self.t = {num:j for j,num in enumerate(self.nodes)}\n",
    "        self.decode = {j:num for j,num in enumerate(self.nodes)}\n",
    "        self.decode[-1] = -1\n",
    "        self.n = n = len(self.nodes)\n",
    "\n",
    "        parent = np.zeros(n, dtype = int)\n",
    "        gate = np.zeros(n, dtype = int)\n",
    "        load = np.zeros(n, dtype = int)\n",
    "        arrival = np.zeros(n)\n",
    "        parent[0] = -1\n",
    "\n",
    "        nodes_left = set(self.nodes[1:])\n",
    "        itree = set()\n",
    "        itree.add(0)\n",
    "        \n",
    "        s = (parent, gate, load, arrival)\n",
    "        self.explore(s, 0, nodes_left, itree)\n",
    "\n",
    "    def explore(self, s, cost, nodes_left, itree):\n",
    "        if len(nodes_left) == 0:\n",
    "            if cost < self.best_cost:\n",
    "                self.best_cost = cost\n",
    "                self.best_solution = deepcopy(s)\n",
    "        else:\n",
    "            for j in nodes_left:\n",
    "                kj = self.t[j]\n",
    "                for i in itree:\n",
    "                    ki = self.t[i]\n",
    "                    \n",
    "                    if cost + distance(i, j) < self.best_cost:\n",
    "                        \n",
    "                        parent, gate, load, arrival = deepcopy(s)\n",
    "                        parent[kj] = ki\n",
    "                        if i == 0:\n",
    "                            gate[kj] = kj\n",
    "                        else:\n",
    "                            gate[kj] = gate[ki]\n",
    "    \n",
    "                        if arrival[ki] + distance(i,j) <= latest[j] and load[gate[kj]] < Q: # isFeasible() # reescribir\n",
    "                            \n",
    "                            load[gate[kj]] += 1\n",
    "                            arrival[kj] = arrival[ki] + distance(i,j)\n",
    "                            if arrival[kj] < earliest[j]:\n",
    "                                arrival[kj] = earliest[j]\n",
    "                            \n",
    "                            self.explore((parent, gate, load, arrival), cost + distance(i, j), nodes_left - {j}, itree | {j})\n",
    "                            load[gate[kj]] -= 1\n",
    "    def give_solution(self):\n",
    "        parent = SortedDict()\n",
    "        arrival = SortedDict()\n",
    "        gate = SortedDict()\n",
    "        load = SortedDict()\n",
    "        for ki in range(self.n):\n",
    "            i = self.decode[ki]\n",
    "            parent[i] = self.decode[self.best_solution[0][ki]]\n",
    "            gate[i] = self.decode[self.best_solution[1][ki]]\n",
    "            load[i] = self.best_solution[2][ki]\n",
    "            arrival[i] = self.best_solution[3][ki]\n",
    "        return(parent, gate, load, arrival)"
   ]
  },
  {
   "cell_type": "code",
   "execution_count": null,
   "metadata": {},
   "outputs": [],
   "source": []
  }
 ],
 "metadata": {
  "kernelspec": {
   "display_name": "opt_env",
   "language": "python",
   "name": "python3"
  },
  "language_info": {
   "codemirror_mode": {
    "name": "ipython",
    "version": 3
   },
   "file_extension": ".py",
   "mimetype": "text/x-python",
   "name": "python",
   "nbconvert_exporter": "python",
   "pygments_lexer": "ipython3",
   "version": "3.8.15"
  },
  "orig_nbformat": 4,
  "vscode": {
   "interpreter": {
    "hash": "660433b0d383e9336e584e51b455f3e799e0f3b84bd6ef51921b023c2b577976"
   }
  }
 },
 "nbformat": 4,
 "nbformat_minor": 2
}
